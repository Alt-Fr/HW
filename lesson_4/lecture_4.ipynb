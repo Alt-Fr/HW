{
 "cells": [
  {
   "cell_type": "code",
   "execution_count": 5,
   "id": "2c94ed3c-af77-425f-9e34-217f3ed0e765",
   "metadata": {},
   "outputs": [
    {
     "name": "stdin",
     "output_type": "stream",
     "text": [
      "Введите правую границу  30\n"
     ]
    }
   ],
   "source": [
    "num = input('Введите правую границу ')\n",
    "counter = 0 #счетчик"
   ]
  },
  {
   "cell_type": "code",
   "execution_count": 7,
   "id": "9f98fd21-4511-4c38-8509-8f1b23cc4ffe",
   "metadata": {},
   "outputs": [
    {
     "name": "stdout",
     "output_type": "stream",
     "text": [
      "2\n",
      "3\n",
      "5\n",
      "7\n",
      "11\n",
      "13\n",
      "17\n",
      "19\n",
      "23\n",
      "29\n"
     ]
    }
   ],
   "source": [
    "if not num.isdigit(): #проверка на корректный ввод\n",
    "    print('Неккоректный ввод, введите ЧИСЛО!')\n",
    "else:\n",
    "    num = int(num) #переводим в integer\n",
    "    for i in range(2, num + 1): \n",
    "        counter = 0\n",
    "        for j in range(2, i + 1): \n",
    "            if i % j == 0: #если число делиться на любое другое число последовательности\n",
    "                counter += 1 #прибавить к счетчику 1\n",
    "        if counter == 1:\n",
    "            print(i) #напечатать число, счетчик которого = 1"
   ]
  },
  {
   "cell_type": "code",
   "execution_count": null,
   "id": "f7b0e1ad-21a0-4ecb-99d3-1117646630de",
   "metadata": {},
   "outputs": [],
   "source": []
  },
  {
   "cell_type": "code",
   "execution_count": null,
   "id": "2397a9d6-0dd4-4c05-a0ad-05781d2a68ac",
   "metadata": {},
   "outputs": [],
   "source": []
  }
 ],
 "metadata": {
  "kernelspec": {
   "display_name": "Python 3 (ipykernel)",
   "language": "python",
   "name": "python3"
  },
  "language_info": {
   "codemirror_mode": {
    "name": "ipython",
    "version": 3
   },
   "file_extension": ".py",
   "mimetype": "text/x-python",
   "name": "python",
   "nbconvert_exporter": "python",
   "pygments_lexer": "ipython3",
   "version": "3.12.2"
  }
 },
 "nbformat": 4,
 "nbformat_minor": 5
}
