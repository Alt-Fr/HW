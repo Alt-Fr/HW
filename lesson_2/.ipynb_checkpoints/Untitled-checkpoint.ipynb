{
 "cells": [
  {
   "cell_type": "code",
   "execution_count": 1,
   "id": "09973880-3780-44fb-bc8a-e5d7d7747c7e",
   "metadata": {},
   "outputs": [
    {
     "name": "stdout",
     "output_type": "stream",
     "text": [
      "Программа для поиска дискриминанта\n",
      "\n"
     ]
    }
   ],
   "source": [
    "print('Программа для поиска дискриминанта')"
   ]
  },
  {
   "cell_type": "code",
   "execution_count": 2,
   "id": "0e3e7d35-d1de-4a87-a9b8-8f6520c3b7af",
   "metadata": {},
   "outputs": [
    {
     "name": "stdin",
     "output_type": "stream",
     "text": [
      "Введите старший коэффициент  2\n",
      "Введите средний коэффициент  4\n",
      "Введите свободный член  2\n"
     ]
    }
   ],
   "source": [
    "a = int(input('Введите старший коэффициент '))\n",
    "b = int(input('Введите средний коэффициент '))\n",
    "c = int(input('Введите свободный член '))"
   ]
  },
  {
   "cell_type": "code",
   "execution_count": 3,
   "id": "75568350-87fb-4a08-94ae-9915af8938aa",
   "metadata": {},
   "outputs": [
    {
     "name": "stdout",
     "output_type": "stream",
     "text": [
      "0\n"
     ]
    }
   ],
   "source": [
    "D = b ** 2 - 4 * a * c\n",
    "print(D)"
   ]
  }
 ],
 "metadata": {
  "kernelspec": {
   "display_name": "Python 3 (ipykernel)",
   "language": "python",
   "name": "python3"
  },
  "language_info": {
   "codemirror_mode": {
    "name": "ipython",
    "version": 3
   },
   "file_extension": ".py",
   "mimetype": "text/x-python",
   "name": "python",
   "nbconvert_exporter": "python",
   "pygments_lexer": "ipython3",
   "version": "3.12.2"
  }
 },
 "nbformat": 4,
 "nbformat_minor": 5
}
