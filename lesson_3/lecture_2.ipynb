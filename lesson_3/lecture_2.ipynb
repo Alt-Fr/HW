{
 "cells": [
  {
   "cell_type": "code",
   "execution_count": 3,
   "id": "60dca37c-e64d-4d0f-9a9a-337c0dfa7571",
   "metadata": {},
   "outputs": [
    {
     "name": "stdin",
     "output_type": "stream",
     "text": [
      "Введите число  55\n"
     ]
    }
   ],
   "source": [
    "num = input('Введите число ')"
   ]
  },
  {
   "cell_type": "code",
   "execution_count": 5,
   "id": "cd89caf3-492d-4ee8-802b-81977a2a4fbb",
   "metadata": {},
   "outputs": [
    {
     "name": "stdout",
     "output_type": "stream",
     "text": [
      "пятьдесят пять\n"
     ]
    }
   ],
   "source": [
    "if num.isdigit(): #проверяем, ввел ли пользователь число\n",
    "    if len(num) == 1: #если число, рассматриваем случай, когда \n",
    "                        #это цифра\n",
    "        if num == '0':\n",
    "            print('нуль')\n",
    "        elif num == '1':\n",
    "            print('один')\n",
    "        elif num == '2':\n",
    "            print('два')\n",
    "        elif num == '3':\n",
    "            print('три')\n",
    "        elif num == '4':\n",
    "            print('четыре')\n",
    "        elif num == '5':\n",
    "            print('пять')\n",
    "        elif num == '6':\n",
    "            print('шесть')\n",
    "        elif num == '7':\n",
    "            print('семь')\n",
    "        elif num == '8':\n",
    "            print('восемь')\n",
    "        elif num == '9':\n",
    "            print('девять')\n",
    "    elif int(num) >= 20:  #рассматриваем случай, когда это двузначное число \n",
    "        num_num = ''  #переменная для числа\n",
    "        if num[0] == '2':  #смотрим десятки\n",
    "            num_num += 'двадцать'\n",
    "        elif num[0] == '3':\n",
    "            num_num += 'тридцать'\n",
    "        elif num[0] == '4':\n",
    "            num_num += 'сорок'\n",
    "        elif num[0] == '5':\n",
    "            num_num += 'пятьдесят'\n",
    "        elif num[0] == '6':\n",
    "            num_num += 'шестьдесят'\n",
    "        elif num[0] == '7':\n",
    "            num_num += 'семьдесят'\n",
    "        elif num[0] == '8':\n",
    "            num_num += 'восемьдесят'\n",
    "        elif num[0] == '9':\n",
    "            num_num += 'девяносто'\n",
    "\n",
    "        \n",
    "        if num[1] == '1':  #смотрим единицы\n",
    "            num_num += ' один'\n",
    "        elif num[1] == '2':\n",
    "            num_num += ' два'\n",
    "        elif num[1] == '3':\n",
    "            num_num += ' три'\n",
    "        elif num[1] == '4':\n",
    "            num_num += ' четыре'\n",
    "        elif num[1] == '5':\n",
    "            num_num += ' пять'\n",
    "        elif num[1] == '6':\n",
    "            num_num += ' шесть'\n",
    "        elif num[1] == '7':\n",
    "            num_num += ' семь'\n",
    "        elif num[1] == '8':\n",
    "            num_num += ' восемь'\n",
    "        elif num[1] == '9':\n",
    "            num_num += ' девять'\n",
    "        print(num_num) #выводим число\n",
    "\n",
    "    else: \n",
    "        if num == '11':\n",
    "            print('одиннадцать')\n",
    "        elif num == '12':\n",
    "            print('двенадцать')\n",
    "        elif num == '13':\n",
    "            print('тринадцать')\n",
    "        elif num == '14':\n",
    "            print('четырнадцать')\n",
    "        elif num == '15':\n",
    "            print('пятнадцать')\n",
    "        elif num == '16':\n",
    "            print('шестнадцать')\n",
    "        elif num == '17':\n",
    "            print('семнадцать')\n",
    "        elif num == '18':\n",
    "            print('восемнадцать')\n",
    "        elif num == '19':\n",
    "            print('девятнадцать')\n",
    "else: #если не число\n",
    "    print('Вы должны ввести число')"
   ]
  },
  {
   "cell_type": "code",
   "execution_count": null,
   "id": "be82f55c-d925-4720-88d0-9f119b29fb1c",
   "metadata": {},
   "outputs": [],
   "source": []
  }
 ],
 "metadata": {
  "kernelspec": {
   "display_name": "Python 3 (ipykernel)",
   "language": "python",
   "name": "python3"
  },
  "language_info": {
   "codemirror_mode": {
    "name": "ipython",
    "version": 3
   },
   "file_extension": ".py",
   "mimetype": "text/x-python",
   "name": "python",
   "nbconvert_exporter": "python",
   "pygments_lexer": "ipython3",
   "version": "3.12.2"
  }
 },
 "nbformat": 4,
 "nbformat_minor": 5
}
