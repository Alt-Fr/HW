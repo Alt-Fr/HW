{
 "cells": [
  {
   "cell_type": "code",
   "execution_count": 18,
   "id": "7dfca5f6-a726-4fcc-8688-27455e526cbf",
   "metadata": {},
   "outputs": [
    {
     "name": "stdin",
     "output_type": "stream",
     "text": [
      "Введите температуру 67rvi76eri\n"
     ]
    }
   ],
   "source": [
    "rad = input('Введите температуру')"
   ]
  },
  {
   "cell_type": "code",
   "execution_count": 19,
   "id": "c0cda303-84de-4a30-95a7-0fa8b3649852",
   "metadata": {},
   "outputs": [
    {
     "name": "stdout",
     "output_type": "stream",
     "text": [
      "Ваш ввод некорректен\n"
     ]
    }
   ],
   "source": [
    "if 'F' in rad or 'C' in rad: #проверка на некорретный ввод\n",
    "    if rad[:-1].isdigit(): #проверка на некорретный ввод\n",
    "        if 'F' in rad: #определяем, градусы по фаренгейту ли\n",
    "            ls_ls = [] #создаем лист\n",
    "            ls = str(int(rad[:-1]) - 32) #переводим в нужные единицы\n",
    "            ls_ls.append(ls) #к листу добавляем получившеюся единицу\n",
    "            ls_ls.append('C') #к листу добавляем меру\n",
    "        else: #для цельсия\n",
    "            ls_ls = [] #создаем лист\n",
    "            ls = str(int(rad[:-1]) + 32) #переводим в нужные единицы\n",
    "            ls_ls.append(ls) #к листу добавляем получившеюся единицу\n",
    "            ls_ls.append('F') #к листу добавляем меру\n",
    "        print(*ls_ls, sep = '') #выводим результат, без пробелов и скобок\n",
    "    else:\n",
    "        print('Ваш ввод некорректен')\n",
    "else:\n",
    "    print('Ваш ввод некорректен')"
   ]
  },
  {
   "cell_type": "code",
   "execution_count": null,
   "id": "dbdb52ec-24c5-493f-99bd-b2e54615f460",
   "metadata": {},
   "outputs": [],
   "source": []
  }
 ],
 "metadata": {
  "kernelspec": {
   "display_name": "Python 3 (ipykernel)",
   "language": "python",
   "name": "python3"
  },
  "language_info": {
   "codemirror_mode": {
    "name": "ipython",
    "version": 3
   },
   "file_extension": ".py",
   "mimetype": "text/x-python",
   "name": "python",
   "nbconvert_exporter": "python",
   "pygments_lexer": "ipython3",
   "version": "3.12.2"
  }
 },
 "nbformat": 4,
 "nbformat_minor": 5
}
